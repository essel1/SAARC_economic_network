


import numpy as np
import pandas as pd


df = pd.read_csv("./WDI data/WDI_data.csv")


df.head(10)


df.info()


columns = df.columns
columns


df.replace(to_replace = "..", value = None, inplace = True)


for column in columns:
    print("Column Name:", column, end="\t")
    print(df[column].isna().sum())





macro_ind_df = df.groupby(['Series Name','Country Code'])
macro_ind_df = macro_ind_df.sum()


macro_ind_df.replace(0, None, inplace = True)


macro_ind_df.head(5)


missing_values_per_series = df.groupby(["Series Name"]).apply(lambda x:x.isna().sum().sum())
missing_values_per_series


total_values_per_series = df.groupby(["Series Name"]).apply(lambda x: x.size)
total_values_per_series


missing_values_per_cent_series = missing_values_per_series/total_values_per_series


print(type(missing_values_per_cent_series))
missing_values_per_cent_series


missing_values_per_cent_series["Central government debt, total (% of GDP)"]


type(macro_ind_df)


type(df)





country_wise_df = df.groupby(["Country Name","Series Name"])
type(country_wise_df)


country_wise_df = country_wise_df.sum()
country_wise_df.head(5)


country_wise_df.columns


missing_values_per_country = df.groupby(["Country Name"]).apply(lambda x: x.isna().sum().sum())
total_values_per_country =  df.groupby(["Country Name"]).apply(lambda x: x.size)
missing_values_per_cent_country = missing_values_per_country/total_values_per_country


print(missing_values_per_country)


total_values_per_country


missing_values_per_cent_country





macro_ind_df.index[0][0]


indexes = list(set(macro_ind_df.index.get_level_values("Series Name")))
print(indexes)


macro_ind_df_dropped = macro_ind_df.copy()
for index in indexes:
    if missing_values_per_cent_series[index] > 0.1:
        macro_ind_df_dropped = macro_ind_df_dropped.drop(index = index)


macro_ind_df_dropped.head(5)


missing_values_per_cent_series["Central government debt, total (% of GDP)"]


remaining = (list(set(macro_ind_df_dropped.index.get_level_values("Series Name"))))


for remain in remaining:
    print(missing_values_per_cent_series[remain])


series = list(set(macro_ind_df_dropped.index.get_level_values("Series Name")))


macro_ind_df_dropped = macro_ind_df_dropped.reset_index()


compser_drop_missing_values = macro_ind_df_dropped.groupby(["Country Name"]).apply(lambda x: x.isna().sum().sum())
compser_drop_total_values = macro_ind_df_dropped.groupby(["Country Name"]).apply(lambda x: x.size)
compser_drop_missing_values_percent = compser_drop_missing_values/compser_drop_total_values


print(compser_drop_missing_values_percent)


print(missing_values_per_cent_country)


print(compser_drop_missing_values["Afghanistan"])
print(compser_drop_total_values["Afghanistan"])


missing_values_per_series_country = macro_ind_df_dropped.groupby(["Series Name", "Country Name"]).apply(lambda x: x.isna().sum().sum())
total_values_per_series_country = macro_ind_df_dropped.groupby(["Series Name", "Country Name"]).apply(lambda x: x.size)
series_country_missing_percent = missing_values_per_series_country/total_values_per_series_country


count = 1
for index in series:
    print("Missing values for:", index, "\t index ", count)
    print(missing_values_per_series_country[index])
    print(series_country_missing_percent[index])
    count += 1


df = macro_ind_df_dropped





missing_values_per_year = df.groupby(["Series Name", "Country Name"]).apply(lambda x: x.isna().sum())
print(missing_values_per_year)



